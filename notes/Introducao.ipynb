{
 "cells": [
  {
   "cell_type": "markdown",
   "metadata": {},
   "source": [
    "# Motivação"
   ]
  },
  {
   "cell_type": "markdown",
   "metadata": {},
   "source": [
    "Uma das disciplinas que curso neste quadrimestre é chamada **Dispositivos Eletrônicos**. Com diversos professores essa disciplina já é considerada dificil, porem com o professor que escolhi é adicionada uma camada de dificuldade extra. São dados 12 experimentos e relatórios, além de duas provas.\n",
    "\n",
    "O conteúdo denso da eletrônica, junto dos extensos e trabalhosos relatórios tornam a disciplina extremamente cansativa.\n",
    "\n",
    "Desta forma, resolvi utilizar **Python** e algumas de suas bibliotecas para que o trabalho nesta disciplina fosse um pouco menor.\n",
    "\n",
    "Este *Notebook* tem a finalidade de explicar o processo de construção dos códigos usados nos experimentos, dando um pequeno *background* em relação ao conceitos utilizados."
   ]
  }
 ],
 "metadata": {
  "kernelspec": {
   "display_name": "Python 3",
   "language": "python",
   "name": "python3"
  },
  "language_info": {
   "codemirror_mode": {
    "name": "ipython",
    "version": 3
   },
   "file_extension": ".py",
   "mimetype": "text/x-python",
   "name": "python",
   "nbconvert_exporter": "python",
   "pygments_lexer": "ipython3",
   "version": "3.7.2"
  }
 },
 "nbformat": 4,
 "nbformat_minor": 2
}
