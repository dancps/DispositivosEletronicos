{
 "cells": [
  {
   "cell_type": "markdown",
   "metadata": {},
   "source": [
    "# Motivação"
   ]
  },
  {
   "cell_type": "markdown",
   "metadata": {},
   "source": [
    "Uma das disciplinas que curso neste quadrimestre é chamada **Dispositivos Eletrônicos**. Com diversos professores essa disciplina já é considerada dificil, porem com o professor que eu escolhi é adicionada uma camada de dificuldade extra. \n",
    "\n",
    "O conteúdo denso da eletrônica, junto dos extensos e trabalhosos relatórios tornam a disciplina extremamente cansativa.\n",
    "\n",
    "Desta forma, resolvi utilizar **Python** e algumas de suas bibliotecas para que o trabalho nesta disciplina fosse um pouco menor."
   ]
  }
 ],
 "metadata": {
  "kernelspec": {
   "display_name": "Python 3",
   "language": "python",
   "name": "python3"
  },
  "language_info": {
   "codemirror_mode": {
    "name": "ipython",
    "version": 3
   },
   "file_extension": ".py",
   "mimetype": "text/x-python",
   "name": "python",
   "nbconvert_exporter": "python",
   "pygments_lexer": "ipython3",
   "version": "3.7.2"
  }
 },
 "nbformat": 4,
 "nbformat_minor": 2
}
